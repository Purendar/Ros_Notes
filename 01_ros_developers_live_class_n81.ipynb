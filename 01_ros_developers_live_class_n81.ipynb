{
 "cells": [
  {
   "cell_type": "markdown",
   "metadata": {},
   "source": [
    "\n"
   ]
  },
  {
   "cell_type": "markdown",
   "metadata": {},
   "source": [
    "![](images/logos/TClogo.png)"
   ]
  },
  {
   "cell_type": "markdown",
   "metadata": {},
   "source": [
    "# PRESENTS"
   ]
  },
  {
   "cell_type": "markdown",
   "metadata": {},
   "source": [
    "# ROS Developers Live Class n81\n"
   ]
  },
  {
   "cell_type": "markdown",
   "metadata": {},
   "source": [
    "![](images/logos/Live-Class-81.jpg)"
   ]
  },
  {
   "cell_type": "markdown",
   "metadata": {},
   "source": [
    "## How to use ROS with Python 3"
   ]
  },
  {
   "cell_type": "markdown",
   "metadata": {},
   "source": [
    "In this class, you will learn how to use Python 3 with ROS.\n",
    "\n",
    "**But, why is so important to learn this topic?**\n",
    "Although we are used to working with Python 2 in ROS for most of the required packages and processes, many times we face situations where we must use scripts in python 3, such as artificial vision or different learning methods such as reinforcement learning.\n",
    "\n",
    "One of the most practical methods to use Python 3 with certain scripts that we will use in our robot is to create a virtual environment, that is, a workspace that is running python 3. This virtual environment will work in a terminal totally independent from the rest of files, so we will learn to create and use it correctly . You gonna see how a robot learn to move forward (along the y axis) using OpenAI Baseline DeepQ , that will need python 3, so follow us to this interesting class ;-)\n",
    "\n",
    "\n"
   ]
  },
  {
   "cell_type": "markdown",
   "metadata": {},
   "source": [
    "If you are interested in becoming a **Robotics Developer** you will need to know how to represent the robot structure in the proper way so you can program it with ROS.\n",
    "\n",
    "(To know more about becoming a robotics developer, read this guide about <a href=\"http://www.theconstructsim.com/become-robotics-developer/\">How To Become a Robotics Developer</a>)"
   ]
  },
  {
   "cell_type": "markdown",
   "metadata": {},
   "source": [
    "This rosject has been created by **Christian Chavez** and **Ricardo Tellez** from **The Construct**. You can use this rosject freely as long as you keep this notice."
   ]
  },
  {
   "cell_type": "markdown",
   "metadata": {},
   "source": [
    "**REQUIREMENTS** :\n",
    "- **Basics of Linux**. If you don't have that knowledge, [check this FREE online course](https://www.robotigniteacademy.com/en/course/linux-robotics/details/)\n",
    "![](images/logos/Linux.png)\n",
    "\n",
    "\n",
    "- **Ros Basics**. If you don't have that knowledge, [check this online course](https://www.robotigniteacademy.com/en/course/ros-in-5-days/details/)\n",
    "\n",
    "![](images/logos/basics.png)\n",
    "\n",
    "**Supplementary Content**\n",
    "\n",
    "- **Python 3 for robotics**. If you want more knowledge of the topic, [check this FREE online course](https://www.robotigniteacademy.com/en/course/python-basics/details/)\n",
    "\n",
    "![](images/logos/python.png)\n",
    "\n",
    "- ... That's it! Let's go!"
   ]
  },
  {
   "cell_type": "markdown",
   "metadata": {},
   "source": [
    "# What is the problem we want to solve?"
   ]
  },
  {
   "cell_type": "markdown",
   "metadata": {},
   "source": [
    "* We want to program a robot with ROS Classic (Kinetic, Melodic, Indigo, ....) using Python.\n",
    "* We want to use some external libraries that only work of Python3 (for example, OpenCV 4, Tensorflow 2.0, Scikit, OpenAI Baselines....)\n",
    "* ROS Classic does not work with Python3.\n",
    "\n",
    "### PROBLEM: How can we create ROS programs that interface with Python3 libraries?"
   ]
  },
  {
   "cell_type": "markdown",
   "metadata": {},
   "source": [
    "# Let's see how to solve it by making an example"
   ]
  },
  {
   "cell_type": "markdown",
   "metadata": {},
   "source": [
    "## Step 0. Define the situation"
   ]
  },
  {
   "cell_type": "markdown",
   "metadata": {},
   "source": [
    "* **Robot to use:** We use the Cubli robot\n",
    "* **Task to learn:** We want it to learn to move forward (along the *y* axis) by applying forces to its internal spinners\n",
    "* **Learning algorithm to use:** [OpenAI Baseline DeepQ](https://openai.com/blog/openai-baselines-dqn/) (only works on Python3)"
   ]
  },
  {
   "cell_type": "markdown",
   "metadata": {},
   "source": [
    "\n",
    "![](images/cubli.jpeg)"
   ]
  },
  {
   "cell_type": "markdown",
   "metadata": {},
   "source": [
    "We have created the code that trains that robot in Gazebo simulation using ROS and the [openai_ros package](https://wiki.ros.org/openai_ros). You can find the code at */home/user/catkin_ws*.\n",
    "\n",
    "The problem is that this code cannot be launched because it depends on libraries (OpenAI Baselines) that only work with Python 3."
   ]
  },
  {
   "cell_type": "markdown",
   "metadata": {},
   "source": [
    "## Step 1. Create a Python3 *virtual* environment inside your Python 2 environment"
   ]
  },
  {
   "cell_type": "markdown",
   "metadata": {},
   "source": [
    "In order to be able to use the OpenAI Baselines, you will need to have a Python 3 system. Since ROS 1 Kinetic only works with Python 2.7, we need to create a special Python3 environment from which to launch the OpenAI algorithms."
   ]
  },
  {
   "cell_type": "markdown",
   "metadata": {},
   "source": [
    "#### 1. Install basic Python3 packages"
   ]
  },
  {
   "cell_type": "markdown",
   "metadata": {},
   "source": [
    "Make sure your systems has installed the following Ubuntu packages. ROSDS already has."
   ]
  },
  {
   "cell_type": "code",
   "execution_count": null,
   "metadata": {},
   "outputs": [],
   "source": [
    "$ sudo apt-get install python-catkin-tools python3-dev python3-numpy"
   ]
  },
  {
   "cell_type": "markdown",
   "metadata": {},
   "source": [
    "#### 2. Install Python *virtualenv*"
   ]
  },
  {
   "cell_type": "markdown",
   "metadata": {},
   "source": [
    "This will be necessary in case you want to work locally, however, the ROS DEVELOMENT STUDIO is already installed and ready to use. As always we recommend you to use ROSDS, it will be more practical, it has many advantages and we can solve your doubts more easily."
   ]
  },
  {
   "cell_type": "code",
   "execution_count": null,
   "metadata": {},
   "outputs": [],
   "source": [
    "$ sudo pip install virtualenv"
   ]
  },
  {
   "cell_type": "markdown",
   "metadata": {},
   "source": [
    "#### 3. Create and activate the virtual environment"
   ]
  },
  {
   "cell_type": "markdown",
   "metadata": {},
   "source": [
    "To create our virtual environment we need to create a **new workspace** where it will be applied and installed. In this workspace you will find all the dependencies and packages that the ROS project requires for its execution with Python3. Follow the instructions:"
   ]
  },
  {
   "cell_type": "markdown",
   "metadata": {},
   "source": [
    "Create the folder for the new workspace ..."
   ]
  },
  {
   "cell_type": "code",
   "execution_count": null,
   "metadata": {},
   "outputs": [],
   "source": [
    "$ mkdir -p python3_ws/src"
   ]
  },
  {
   "cell_type": "markdown",
   "metadata": {},
   "source": [
    "... go inside this new folder ..."
   ]
  },
  {
   "cell_type": "code",
   "execution_count": null,
   "metadata": {},
   "outputs": [],
   "source": [
    "$ cd python3_ws"
   ]
  },
  {
   "cell_type": "markdown",
   "metadata": {},
   "source": [
    "... create the virtual environment with *virtualenv* providing a name to it,..."
   ]
  },
  {
   "cell_type": "code",
   "execution_count": null,
   "metadata": {},
   "outputs": [],
   "source": [
    "$ virtualenv py3venv --python=python3"
   ]
  },
  {
   "cell_type": "markdown",
   "metadata": {},
   "source": [
    "![](images/rosject_images/shell.png)"
   ]
  },
  {
   "cell_type": "markdown",
   "metadata": {},
   "source": [
    "... and activate it."
   ]
  },
  {
   "cell_type": "code",
   "execution_count": null,
   "metadata": {},
   "outputs": [],
   "source": [
    "$ source ~/python3_ws/py3venv/bin/activate"
   ]
  },
  {
   "cell_type": "markdown",
   "metadata": {},
   "source": [
    "![](images/rosject_images/shell2.png)"
   ]
  },
  {
   "cell_type": "markdown",
   "metadata": {},
   "source": [
    "At this point you have created a **virtual Python 3 environment** and have activated it. Anything you create in that terminal will be Python3 related."
   ]
  },
  {
   "cell_type": "markdown",
   "metadata": {},
   "source": [
    "## Step 2. Install the Python3 required libraries and its dependencies"
   ]
  },
  {
   "cell_type": "markdown",
   "metadata": {},
   "source": [
    "Now is the turn to install all Python3's libraries and dependencies that are neccesary to make the files run. Let's see here are two forms to install this using the *git clone* and later making a *catkin_make* or using a *pip install*, that will directly install the packages or dependencies needed. This instalation depends on what kind of build does the instalation required. In this case, the libraries that we will use will be of the [openai_baselines](https://github.com/openai/baselines)."
   ]
  },
  {
   "cell_type": "code",
   "execution_count": null,
   "metadata": {},
   "outputs": [],
   "source": [
    "$ cd ~/python3_ws/src"
   ]
  },
  {
   "cell_type": "code",
   "execution_count": null,
   "metadata": {},
   "outputs": [],
   "source": [
    "$ git clone https://github.com/openai/baselines.git"
   ]
  },
  {
   "cell_type": "markdown",
   "metadata": {},
   "source": [
    "![](images/rosject_images/shell3.png)"
   ]
  },
  {
   "cell_type": "code",
   "execution_count": null,
   "metadata": {},
   "outputs": [],
   "source": [
    "$ cd baselines"
   ]
  },
  {
   "cell_type": "markdown",
   "metadata": {},
   "source": [
    "Baselines require to have Tensorflow 1.15"
   ]
  },
  {
   "cell_type": "code",
   "execution_count": null,
   "metadata": {},
   "outputs": [],
   "source": [
    "$ pip install tensorflow==1.15rc2"
   ]
  },
  {
   "cell_type": "markdown",
   "metadata": {},
   "source": [
    "![](images/rosject_images/shell4.png)"
   ]
  },
  {
   "cell_type": "markdown",
   "metadata": {},
   "source": [
    "![](images/rosject_images/shell5.png)"
   ]
  },
  {
   "cell_type": "markdown",
   "metadata": {},
   "source": [
    "Then install any other dependencies required by *Baselines*"
   ]
  },
  {
   "cell_type": "code",
   "execution_count": null,
   "metadata": {},
   "outputs": [],
   "source": [
    "$ pip install -e ."
   ]
  },
  {
   "cell_type": "markdown",
   "metadata": {},
   "source": [
    "Additionally, let's install the proper version of *gym* library:"
   ]
  },
  {
   "cell_type": "code",
   "execution_count": null,
   "metadata": {},
   "outputs": [],
   "source": [
    "$ pip install gym"
   ]
  },
  {
   "cell_type": "markdown",
   "metadata": {},
   "source": [
    "At this point, you have:\n",
    "* A Python 3 virtual environment, created and activated\n",
    "* The required Python3 libraries installed along with its dependencies"
   ]
  },
  {
   "cell_type": "markdown",
   "metadata": {},
   "source": [
    "## Step 3. Install the ROS packages required by your ROS code plus its dependencies in the Python3 workspace"
   ]
  },
  {
   "cell_type": "markdown",
   "metadata": {},
   "source": [
    "At the same time there are some packages that ROS requires to be installed to be able to use python 3, since as we mentioned previously it usually works with python 2.7, in the same way that we did previously we installed in our python 3 workspace the necessary packages"
   ]
  },
  {
   "cell_type": "markdown",
   "metadata": {},
   "source": [
    "First let's install the ROS packages that need to be recompiled for Python 3 because we need to use them in our ROS-Python3 code:"
   ]
  },
  {
   "cell_type": "code",
   "execution_count": null,
   "metadata": {},
   "outputs": [],
   "source": [
    "$ cd ~/python3_ws/src/"
   ]
  },
  {
   "cell_type": "code",
   "execution_count": null,
   "metadata": {},
   "outputs": [],
   "source": [
    "$ git clone https://github.com/ros/geometry"
   ]
  },
  {
   "cell_type": "code",
   "execution_count": null,
   "metadata": {},
   "outputs": [],
   "source": [
    "$ git clone https://github.com/ros/geometry2"
   ]
  },
  {
   "cell_type": "markdown",
   "metadata": {},
   "source": [
    "Identify the dependencies those packages have, and install them too:"
   ]
  },
  {
   "cell_type": "code",
   "execution_count": null,
   "metadata": {},
   "outputs": [],
   "source": [
    "$ pip install pyaml"
   ]
  },
  {
   "cell_type": "code",
   "execution_count": null,
   "metadata": {},
   "outputs": [],
   "source": [
    "$ pip install rospkg"
   ]
  },
  {
   "cell_type": "code",
   "execution_count": null,
   "metadata": {},
   "outputs": [],
   "source": [
    "$ pip install empy"
   ]
  },
  {
   "cell_type": "markdown",
   "metadata": {},
   "source": [
    "Once installed the dependencies, compile the ROS packages (with Python3)"
   ]
  },
  {
   "cell_type": "code",
   "execution_count": null,
   "metadata": {},
   "outputs": [],
   "source": [
    "$ cd ~/python3_ws"
   ]
  },
  {
   "cell_type": "code",
   "execution_count": null,
   "metadata": {},
   "outputs": [],
   "source": [
    "$ catkin_make -DPYTHON_EXECUTABLE:FILEPATH=/home/user/python3_ws/py3venv/bin/python"
   ]
  },
  {
   "cell_type": "markdown",
   "metadata": {},
   "source": [
    "it will take a while, wait until the compile is completed..."
   ]
  },
  {
   "cell_type": "markdown",
   "metadata": {},
   "source": [
    "![](images/rosject_images/shell6.png)"
   ]
  },
  {
   "cell_type": "markdown",
   "metadata": {},
   "source": [
    "Once compiled, make a *source* to have everything ready"
   ]
  },
  {
   "cell_type": "code",
   "execution_count": null,
   "metadata": {},
   "outputs": [],
   "source": [
    "$ source ~/python3_ws/devel/setup.bash"
   ]
  },
  {
   "cell_type": "markdown",
   "metadata": {},
   "source": [
    "## Step 4. Compile your ROS packages which depend on Python3 libraries"
   ]
  },
  {
   "cell_type": "markdown",
   "metadata": {},
   "source": [
    "Now is when we compile the ROS code we created to train the robot.\n",
    "\n",
    "Let's start from a new shell, to show the common procedure. Use the top menu to launch a new terminal (**Tools->Shell**)."
   ]
  },
  {
   "cell_type": "markdown",
   "metadata": {},
   "source": [
    "### a) Get the terminal Python 3 ready"
   ]
  },
  {
   "cell_type": "code",
   "execution_count": null,
   "metadata": {},
   "outputs": [],
   "source": [
    "$ source ~/python3_ws/py3venv/bin/activate"
   ]
  },
  {
   "cell_type": "code",
   "execution_count": null,
   "metadata": {},
   "outputs": [],
   "source": [
    "$ source ~/python3_ws/devel/setup.bash"
   ]
  },
  {
   "cell_type": "markdown",
   "metadata": {},
   "source": [
    "### b) Compile"
   ]
  },
  {
   "cell_type": "code",
   "execution_count": null,
   "metadata": {},
   "outputs": [],
   "source": [
    "$ cd /home/user/catkin_ws"
   ]
  },
  {
   "cell_type": "markdown",
   "metadata": {},
   "source": [
    "Remove all previous code built (to prevent mixing different builts with different libraries). This step is not required if you are compiling from a previous correct compilation."
   ]
  },
  {
   "cell_type": "code",
   "execution_count": null,
   "metadata": {},
   "outputs": [],
   "source": [
    "$ rm -rf build devel"
   ]
  },
  {
   "cell_type": "code",
   "execution_count": null,
   "metadata": {},
   "outputs": [],
   "source": [
    "$ catkin_make -DPYTHON_EXECUTABLE:FILEPATH=/home/user/python3_ws/py3venv/bin/python"
   ]
  },
  {
   "cell_type": "code",
   "execution_count": null,
   "metadata": {},
   "outputs": [],
   "source": [
    "$ source devel/setup.bash"
   ]
  },
  {
   "cell_type": "markdown",
   "metadata": {},
   "source": [
    "At this point you have:\n",
    "* Your ROS packages correctly compiled with Python 3 support. **YEAH!!!**"
   ]
  },
  {
   "cell_type": "markdown",
   "metadata": {},
   "source": [
    "## Step 5. Launch (and pray)"
   ]
  },
  {
   "cell_type": "markdown",
   "metadata": {},
   "source": [
    "We have included here the code of the simulation of the robot, that we can use to test our code and start training the robot. You can find the code at */home/user/simulation_ws*."
   ]
  },
  {
   "cell_type": "markdown",
   "metadata": {},
   "source": [
    "#### Launch the simulation of the cube"
   ]
  },
  {
   "cell_type": "markdown",
   "metadata": {},
   "source": [
    "Go to the simulation menu and select *Choose launch file*"
   ]
  },
  {
   "cell_type": "markdown",
   "metadata": {},
   "source": [
    "![](images/useful_images/simulations_menu.png)"
   ]
  },
  {
   "cell_type": "markdown",
   "metadata": {},
   "source": [
    "and then select the *main.launch*"
   ]
  },
  {
   "cell_type": "markdown",
   "metadata": {},
   "source": [
    "![](images/rosject_images/sim.png)"
   ]
  },
  {
   "cell_type": "markdown",
   "metadata": {},
   "source": [
    "You'll have something similar to this simulation."
   ]
  },
  {
   "cell_type": "markdown",
   "metadata": {},
   "source": [
    "![](images/cubli_sim.png)"
   ]
  },
  {
   "cell_type": "markdown",
   "metadata": {},
   "source": [
    "Then you can launch the code you compiled with Python 3. Use the terminal with the Python3 environment activated:"
   ]
  },
  {
   "cell_type": "code",
   "execution_count": null,
   "metadata": {},
   "outputs": [],
   "source": [
    "$ roslaunch my_moving_cube_pkg start_training.launch"
   ]
  },
  {
   "cell_type": "markdown",
   "metadata": {},
   "source": [
    "you will have something similar to this"
   ]
  },
  {
   "cell_type": "markdown",
   "metadata": {},
   "source": [
    "<img src=\"images/cube_deepQ.gif\" />"
   ]
  },
  {
   "cell_type": "markdown",
   "metadata": {},
   "source": [
    "# GOOD JOB!"
   ]
  },
  {
   "cell_type": "markdown",
   "metadata": {},
   "source": [
    "### Important To Remember:\n",
    "\n",
    "Whenever you need to work on the Python 3 environment, you will need to activate it by doing the following command:"
   ]
  },
  {
   "cell_type": "code",
   "execution_count": null,
   "metadata": {},
   "outputs": [],
   "source": [
    "$ source ~/python3_ws/py3venv/bin/activate"
   ]
  },
  {
   "cell_type": "markdown",
   "metadata": {},
   "source": [
    "# Mission  completed!!"
   ]
  },
  {
   "cell_type": "markdown",
   "metadata": {},
   "source": [
    "### If you liked this video, please support us!\n",
    "### Really... we need your support!!!!"
   ]
  },
  {
   "cell_type": "markdown",
   "metadata": {},
   "source": [
    "### How can you support us?"
   ]
  },
  {
   "cell_type": "markdown",
   "metadata": {},
   "source": [
    "## 1. Give us a like in Youtube and subscribe to the channel"
   ]
  },
  {
   "cell_type": "markdown",
   "metadata": {},
   "source": [
    "* **Go to our Youtube Channel (https://www.youtube.com/channel/UCt6Lag-vv25fTX3e11mVY1Q) and subscribe (IT IS FREE!!!)**\n",
    "* **Give us a like to this video**"
   ]
  },
  {
   "cell_type": "markdown",
   "metadata": {},
   "source": [
    "## 2. Buy one ROS Developers T-shirt!\n",
    "\n"
   ]
  },
  {
   "cell_type": "markdown",
   "metadata": {},
   "source": [
    "<img src=\"images/logos/T_shirts.png\">\n"
   ]
  },
  {
   "cell_type": "markdown",
   "metadata": {},
   "source": [
    "You can buy them at our Teespring area (https://teespring.com/stores/ros-developers)"
   ]
  },
  {
   "cell_type": "markdown",
   "metadata": {},
   "source": [
    "## 3. Subscribe to our ROS online academy and become a Master of ROS Development\n",
    "\n",
    "Go to our online academy. There is no faster way and funnier to learn ROS because we use the same\n",
    "method we did here.\n",
    "\n",
    "**We call the 30/70 method**\n",
    "\n",
    "\n",
    "* **30% of the time learning theory**\n",
    "* **70% of the time practicing with simulated robots**"
   ]
  },
  {
   "cell_type": "markdown",
   "metadata": {},
   "source": [
    "\n",
    "![](images/logos/some_courses.png)"
   ]
  },
  {
   "cell_type": "markdown",
   "metadata": {},
   "source": [
    "### Check it out at http://robotignite.academy"
   ]
  },
  {
   "cell_type": "markdown",
   "metadata": {},
   "source": [
    "# KEEP PUSHING YOUR ROS LEARNING WITH PATIENCE AND GOOD HUMOUR!"
   ]
  },
  {
   "cell_type": "markdown",
   "metadata": {},
   "source": [
    "# Build the future, Become a ROS DEVELOPER\n"
   ]
  }
 ],
 "metadata": {
  "kernelspec": {
   "display_name": "Python 2",
   "language": "python",
   "name": "python2"
  },
  "language_info": {
   "codemirror_mode": {
    "name": "ipython",
    "version": 2
   },
   "file_extension": ".py",
   "mimetype": "text/x-python",
   "name": "python",
   "nbconvert_exporter": "python",
   "pygments_lexer": "ipython2",
   "version": "2.7.16"
  }
 },
 "nbformat": 4,
 "nbformat_minor": 1
}
